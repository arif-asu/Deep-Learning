{
  "nbformat": 4,
  "nbformat_minor": 0,
  "metadata": {
    "colab": {
      "provenance": []
    },
    "kernelspec": {
      "name": "python3",
      "display_name": "Python 3"
    },
    "language_info": {
      "name": "python"
    }
  },
  "cells": [
    {
      "cell_type": "code",
      "execution_count": 1,
      "metadata": {
        "id": "w9KABdBcQPDY"
      },
      "outputs": [],
      "source": [
        "import math"
      ]
    },
    {
      "cell_type": "markdown",
      "source": [
        "Compute the sigmoid activation function"
      ],
      "metadata": {
        "id": "857R7aB9QkJb"
      }
    },
    {
      "cell_type": "code",
      "source": [
        "def sigmoid(z):\n",
        "  return 1/(1+math.exp(-z))"
      ],
      "metadata": {
        "id": "doTwTH_DQWv2"
      },
      "execution_count": 2,
      "outputs": []
    },
    {
      "cell_type": "markdown",
      "source": [
        "Calculate the weighted sum of inputs plus the bias\n",
        "\n",
        "Applies the sigmoid activation function to the total"
      ],
      "metadata": {
        "id": "jej6oxyDQpcy"
      }
    },
    {
      "cell_type": "code",
      "source": [
        "def feedforward (weights, bias, inputs):\n",
        "  total=sum(w*x for w, x in zip(weights,inputs))+bias\n",
        "  return sigmoid(total)"
      ],
      "metadata": {
        "id": "ifXY26QiQe-B"
      },
      "execution_count": 3,
      "outputs": []
    },
    {
      "cell_type": "markdown",
      "source": [
        "Convert the sigmoid output to a class label based on a threshold"
      ],
      "metadata": {
        "id": "hFx_14b5R4tM"
      }
    },
    {
      "cell_type": "code",
      "source": [
        "def classify(output, threshold=0.5):\n",
        "  return 1 if output >=threshold else 0"
      ],
      "metadata": {
        "id": "koZyp3xIRVrg"
      },
      "execution_count": 4,
      "outputs": []
    },
    {
      "cell_type": "markdown",
      "source": [
        " **Example:** Define the weights, bias and inputs and then calculate the output of the neuron using the feedforward function"
      ],
      "metadata": {
        "id": "RYFsXzn6SOLN"
      }
    },
    {
      "cell_type": "code",
      "source": [
        "weights=[0,1]\n",
        "bias=0.5\n",
        "inputs=[2,3]\n",
        "\n",
        "output=feedforward(weights, bias, inputs)\n",
        "print(f\"Output of the neuron for inputs {inputs} is: {output}\")"
      ],
      "metadata": {
        "colab": {
          "base_uri": "https://localhost:8080/"
        },
        "id": "yslKjf5_SJrF",
        "outputId": "87341832-b43f-464e-b52d-c68143ba0c86"
      },
      "execution_count": 5,
      "outputs": [
        {
          "output_type": "stream",
          "name": "stdout",
          "text": [
            "Output of the neuron for inputs [2, 3] is: 0.9706877692486436\n"
          ]
        }
      ]
    },
    {
      "cell_type": "code",
      "source": [
        "class_label=classify(output)\n",
        "print(f\"Class label for the output is: {class_label}\")"
      ],
      "metadata": {
        "colab": {
          "base_uri": "https://localhost:8080/"
        },
        "id": "-l4Dr8ynSxD7",
        "outputId": "6fc6b64b-c3f6-4b49-cf82-bb482e97fa07"
      },
      "execution_count": 6,
      "outputs": [
        {
          "output_type": "stream",
          "name": "stdout",
          "text": [
            "Class label for the output is: 1\n"
          ]
        }
      ]
    }
  ]
}