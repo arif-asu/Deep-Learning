{
  "nbformat": 4,
  "nbformat_minor": 0,
  "metadata": {
    "colab": {
      "provenance": []
    },
    "kernelspec": {
      "name": "python3",
      "display_name": "Python 3"
    },
    "language_info": {
      "name": "python"
    }
  },
  "cells": [
    {
      "cell_type": "code",
      "execution_count": 1,
      "metadata": {
        "id": "p_QdxYVU61dm"
      },
      "outputs": [],
      "source": [
        "import numpy as np"
      ]
    },
    {
      "cell_type": "markdown",
      "source": [
        "**1. ReLU- Rectified Linear Unit (Hidden Layer)**"
      ],
      "metadata": {
        "id": "UV0FfH0A7bSG"
      }
    },
    {
      "cell_type": "code",
      "source": [
        "def relu(x):\n",
        "  return np.maximum(0,x)"
      ],
      "metadata": {
        "id": "EtKhlDkH7X-z"
      },
      "execution_count": 2,
      "outputs": []
    },
    {
      "cell_type": "code",
      "source": [
        "relu(-10)"
      ],
      "metadata": {
        "colab": {
          "base_uri": "https://localhost:8080/"
        },
        "id": "JuXeG3UH7sH2",
        "outputId": "9f413a7c-dacc-4214-8a71-5597bc27cc48"
      },
      "execution_count": 6,
      "outputs": [
        {
          "output_type": "execute_result",
          "data": {
            "text/plain": [
              "np.int64(0)"
            ]
          },
          "metadata": {},
          "execution_count": 6
        }
      ]
    },
    {
      "cell_type": "code",
      "source": [
        "relu(10)"
      ],
      "metadata": {
        "colab": {
          "base_uri": "https://localhost:8080/"
        },
        "id": "oTML8PAt7uDp",
        "outputId": "4c1a6fdd-5541-4559-f239-5c1b7dcacff1"
      },
      "execution_count": 4,
      "outputs": [
        {
          "output_type": "execute_result",
          "data": {
            "text/plain": [
              "np.int64(10)"
            ]
          },
          "metadata": {},
          "execution_count": 4
        }
      ]
    },
    {
      "cell_type": "code",
      "source": [
        "relu(np.array([-1,0,1,2]))"
      ],
      "metadata": {
        "colab": {
          "base_uri": "https://localhost:8080/"
        },
        "id": "9ttCXNvj75QV",
        "outputId": "812150a7-706f-4022-a94b-b67cddb240ee"
      },
      "execution_count": 7,
      "outputs": [
        {
          "output_type": "execute_result",
          "data": {
            "text/plain": [
              "array([0, 0, 1, 2])"
            ]
          },
          "metadata": {},
          "execution_count": 7
        }
      ]
    },
    {
      "cell_type": "markdown",
      "source": [
        "**2. Leaky ReLU**"
      ],
      "metadata": {
        "id": "k0ahJcaV8NIG"
      }
    },
    {
      "cell_type": "code",
      "source": [
        "def leaky_relu(x, alpha=0.01): #It takes two arguments\n",
        "  return np.where(x>0,x,x*alpha) #where function works like a vectorized if-else."
      ],
      "metadata": {
        "id": "MQD0fqKZ8GGA"
      },
      "execution_count": 11,
      "outputs": []
    },
    {
      "cell_type": "code",
      "source": [
        "leaky_relu(-5)"
      ],
      "metadata": {
        "colab": {
          "base_uri": "https://localhost:8080/"
        },
        "id": "zucCS3zW8dS0",
        "outputId": "af315d40-b70d-48e6-b6d7-77ae8cfe6a98"
      },
      "execution_count": 9,
      "outputs": [
        {
          "output_type": "execute_result",
          "data": {
            "text/plain": [
              "array(-0.05)"
            ]
          },
          "metadata": {},
          "execution_count": 9
        }
      ]
    },
    {
      "cell_type": "code",
      "source": [
        "leaky_relu(np.array([-1,0,1,2]))"
      ],
      "metadata": {
        "colab": {
          "base_uri": "https://localhost:8080/"
        },
        "id": "LT1M80-m8ftD",
        "outputId": "4cafc639-ef67-46f5-9edb-820f1bf81752"
      },
      "execution_count": 10,
      "outputs": [
        {
          "output_type": "execute_result",
          "data": {
            "text/plain": [
              "array([-0.01,  0.  ,  1.  ,  2.  ])"
            ]
          },
          "metadata": {},
          "execution_count": 10
        }
      ]
    },
    {
      "cell_type": "markdown",
      "source": [
        "**3. ELU - Exponential Linear Unit (Hidden Layer)**"
      ],
      "metadata": {
        "id": "62UrlMEV9YNy"
      }
    },
    {
      "cell_type": "code",
      "source": [
        "def elu(x,alpha=1.0):\n",
        "  return np.where(x>0,x,alpha*(np.exp(x)-1))"
      ],
      "metadata": {
        "id": "t6gwSX4V8l7U"
      },
      "execution_count": 12,
      "outputs": []
    },
    {
      "cell_type": "code",
      "source": [
        "elu(5)"
      ],
      "metadata": {
        "colab": {
          "base_uri": "https://localhost:8080/"
        },
        "id": "PURt0wyc9pz2",
        "outputId": "6f261c09-2f9f-4154-80b8-f66562092159"
      },
      "execution_count": 13,
      "outputs": [
        {
          "output_type": "execute_result",
          "data": {
            "text/plain": [
              "array(5.)"
            ]
          },
          "metadata": {},
          "execution_count": 13
        }
      ]
    },
    {
      "cell_type": "code",
      "source": [
        "elu(np.array([-1,0,1,2]))"
      ],
      "metadata": {
        "colab": {
          "base_uri": "https://localhost:8080/"
        },
        "id": "ttOQVizz9rM9",
        "outputId": "93df1545-a505-4cc5-ef19-60db6c963be6"
      },
      "execution_count": 14,
      "outputs": [
        {
          "output_type": "execute_result",
          "data": {
            "text/plain": [
              "array([-0.63212056,  0.        ,  1.        ,  2.        ])"
            ]
          },
          "metadata": {},
          "execution_count": 14
        }
      ]
    },
    {
      "cell_type": "markdown",
      "source": [
        "**4. Sigmoid (Output and Binary Class Problem)**"
      ],
      "metadata": {
        "id": "ULAn9JHI95-F"
      }
    },
    {
      "cell_type": "code",
      "source": [
        "def sigmoid(x):\n",
        "  return 1 / (1+np.exp(-x))"
      ],
      "metadata": {
        "id": "0mC73g249wDM"
      },
      "execution_count": 17,
      "outputs": []
    },
    {
      "cell_type": "code",
      "source": [
        "sigmoid(np.array([-1,0,1,2]))"
      ],
      "metadata": {
        "colab": {
          "base_uri": "https://localhost:8080/"
        },
        "id": "_6pOxcDt-JFJ",
        "outputId": "4ac8358e-717f-4890-f129-69b6ba8ad9ad"
      },
      "execution_count": 18,
      "outputs": [
        {
          "output_type": "execute_result",
          "data": {
            "text/plain": [
              "array([0.26894142, 0.5       , 0.73105858, 0.88079708])"
            ]
          },
          "metadata": {},
          "execution_count": 18
        }
      ]
    },
    {
      "cell_type": "markdown",
      "source": [
        "**5. Softmax (Output Layer & Multiclass Problem)**"
      ],
      "metadata": {
        "id": "f4-XmK55-XqT"
      }
    },
    {
      "cell_type": "code",
      "source": [
        "def softmax(x):\n",
        "  e_x=np.exp(x-np.max(x))\n",
        "  return e_x / e_x.sum(axis=0)"
      ],
      "metadata": {
        "id": "YV5JpQUt-VTi"
      },
      "execution_count": 19,
      "outputs": []
    },
    {
      "cell_type": "code",
      "source": [
        "proba=softmax(np.array([-1,1,0.5]))\n",
        "proba"
      ],
      "metadata": {
        "colab": {
          "base_uri": "https://localhost:8080/"
        },
        "id": "7_-r8cXo-rn0",
        "outputId": "da0c747f-88fa-4234-8285-2535af983f1d"
      },
      "execution_count": 22,
      "outputs": [
        {
          "output_type": "execute_result",
          "data": {
            "text/plain": [
              "array([0.07769558, 0.57409699, 0.34820743])"
            ]
          },
          "metadata": {},
          "execution_count": 22
        }
      ]
    },
    {
      "cell_type": "code",
      "source": [
        "sum(proba)"
      ],
      "metadata": {
        "colab": {
          "base_uri": "https://localhost:8080/"
        },
        "id": "bsfu5LHI-138",
        "outputId": "318d96f0-6020-4874-aca5-3d290609d28d"
      },
      "execution_count": 23,
      "outputs": [
        {
          "output_type": "execute_result",
          "data": {
            "text/plain": [
              "np.float64(1.0)"
            ]
          },
          "metadata": {},
          "execution_count": 23
        }
      ]
    },
    {
      "cell_type": "markdown",
      "source": [
        "**6. Swish (Hidden Layer)**"
      ],
      "metadata": {
        "id": "iRwWe7gs_UXc"
      }
    },
    {
      "cell_type": "code",
      "source": [
        "def swish(x,beta=1.0):\n",
        "  return x*sigmoid(beta*x)"
      ],
      "metadata": {
        "id": "ymi0DFhS-303"
      },
      "execution_count": 24,
      "outputs": []
    },
    {
      "cell_type": "code",
      "source": [
        "swish(5)"
      ],
      "metadata": {
        "colab": {
          "base_uri": "https://localhost:8080/"
        },
        "id": "kGioIXb3_lD4",
        "outputId": "4bb9c159-7f37-43b6-a5f5-405e0aba597b"
      },
      "execution_count": 25,
      "outputs": [
        {
          "output_type": "execute_result",
          "data": {
            "text/plain": [
              "np.float64(4.966535745378576)"
            ]
          },
          "metadata": {},
          "execution_count": 25
        }
      ]
    },
    {
      "cell_type": "code",
      "source": [
        "swish(np.array([-1,0,1,2]))"
      ],
      "metadata": {
        "colab": {
          "base_uri": "https://localhost:8080/"
        },
        "id": "MmetxP47_mh-",
        "outputId": "e9909bff-4b08-4d8f-d2c2-6fd026611f3e"
      },
      "execution_count": 26,
      "outputs": [
        {
          "output_type": "execute_result",
          "data": {
            "text/plain": [
              "array([-0.26894142,  0.        ,  0.73105858,  1.76159416])"
            ]
          },
          "metadata": {},
          "execution_count": 26
        }
      ]
    },
    {
      "cell_type": "markdown",
      "source": [
        "**7. Linear (Output Layer)**"
      ],
      "metadata": {
        "id": "NEACv_UK_zyn"
      }
    },
    {
      "cell_type": "code",
      "source": [
        "def linear(x):\n",
        "  return x"
      ],
      "metadata": {
        "id": "obOKT3Mc_r_K"
      },
      "execution_count": 27,
      "outputs": []
    },
    {
      "cell_type": "code",
      "source": [
        "linear(10)"
      ],
      "metadata": {
        "colab": {
          "base_uri": "https://localhost:8080/"
        },
        "id": "9_bHRC2h_-fL",
        "outputId": "b41c9562-a53d-4bd7-cdeb-ea948803cd38"
      },
      "execution_count": 28,
      "outputs": [
        {
          "output_type": "execute_result",
          "data": {
            "text/plain": [
              "10"
            ]
          },
          "metadata": {},
          "execution_count": 28
        }
      ]
    },
    {
      "cell_type": "code",
      "source": [
        "linear(-5)"
      ],
      "metadata": {
        "colab": {
          "base_uri": "https://localhost:8080/"
        },
        "id": "AotJhU4D__5E",
        "outputId": "286aeca8-b33c-4205-a4f5-e8ec63ed2a5f"
      },
      "execution_count": 29,
      "outputs": [
        {
          "output_type": "execute_result",
          "data": {
            "text/plain": [
              "-5"
            ]
          },
          "metadata": {},
          "execution_count": 29
        }
      ]
    },
    {
      "cell_type": "markdown",
      "source": [
        "**8. tanh (Hyperbolic Tangent)**"
      ],
      "metadata": {
        "id": "efobpUrhAEEY"
      }
    },
    {
      "cell_type": "code",
      "source": [
        "np.tanh(10)"
      ],
      "metadata": {
        "colab": {
          "base_uri": "https://localhost:8080/"
        },
        "id": "bEKF6ma0AeKt",
        "outputId": "6f7bc6d6-e9a5-4f90-d107-c941554664f2"
      },
      "execution_count": 31,
      "outputs": [
        {
          "output_type": "execute_result",
          "data": {
            "text/plain": [
              "np.float64(0.9999999958776927)"
            ]
          },
          "metadata": {},
          "execution_count": 31
        }
      ]
    },
    {
      "cell_type": "code",
      "source": [
        "def tanh(x):\n",
        "  return np.tanh(x)"
      ],
      "metadata": {
        "id": "27CLkglrACtP"
      },
      "execution_count": 32,
      "outputs": []
    },
    {
      "cell_type": "code",
      "source": [
        "tanh(10)"
      ],
      "metadata": {
        "colab": {
          "base_uri": "https://localhost:8080/"
        },
        "id": "VEzfeO3uARTb",
        "outputId": "d81adb8a-39a1-448e-9466-36072ad960cd"
      },
      "execution_count": 33,
      "outputs": [
        {
          "output_type": "execute_result",
          "data": {
            "text/plain": [
              "np.float64(0.9999999958776927)"
            ]
          },
          "metadata": {},
          "execution_count": 33
        }
      ]
    },
    {
      "cell_type": "code",
      "source": [
        "tanh([-1,0,1,2])"
      ],
      "metadata": {
        "colab": {
          "base_uri": "https://localhost:8080/"
        },
        "id": "LpOPpwcAAisn",
        "outputId": "d48f7dcf-12d7-4d9e-9ac2-4a3a37c82542"
      },
      "execution_count": 34,
      "outputs": [
        {
          "output_type": "execute_result",
          "data": {
            "text/plain": [
              "array([-0.76159416,  0.        ,  0.76159416,  0.96402758])"
            ]
          },
          "metadata": {},
          "execution_count": 34
        }
      ]
    },
    {
      "cell_type": "code",
      "source": [
        "import math\n",
        "def tanh(x):\n",
        "  result=(math.exp(x)-math.exp(-x))/(math.exp(x)+math.exp(-x))\n",
        "  return result"
      ],
      "metadata": {
        "id": "Jqdb0mUvAnQv"
      },
      "execution_count": 35,
      "outputs": []
    },
    {
      "cell_type": "code",
      "source": [
        "tanh(-1)"
      ],
      "metadata": {
        "colab": {
          "base_uri": "https://localhost:8080/"
        },
        "id": "z463it29A6vr",
        "outputId": "8b321a8b-2d6a-4e51-d79d-d56615aa4cff"
      },
      "execution_count": 36,
      "outputs": [
        {
          "output_type": "execute_result",
          "data": {
            "text/plain": [
              "-0.7615941559557649"
            ]
          },
          "metadata": {},
          "execution_count": 36
        }
      ]
    }
  ]
}